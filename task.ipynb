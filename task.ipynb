{
 "cells": [
  {
   "cell_type": "code",
   "execution_count": null,
   "id": "770cb152",
   "metadata": {},
   "outputs": [],
   "source": [
    "!which python"
   ]
  },
  {
   "cell_type": "code",
   "execution_count": null,
   "id": "18c3d1bb",
   "metadata": {},
   "outputs": [],
   "source": [
    "import numpy as np\n",
    "import pandas as pd\n",
    "import matplotlib.pyplot as plt\n",
    "import seaborn as sns\n",
    "\n",
    "%config InlineBackend.figure_format='retina'"
   ]
  },
  {
   "cell_type": "markdown",
   "id": "8daf79cc",
   "metadata": {},
   "source": [
    "# DS3 Consulting FA22 Interview Task\n",
    "\n",
    "## Background\n",
    "You are consulting for a (fictional) real estate agency in Melbourne, Australia. You have been provided with a dataset of housing sales from January 28, 2016 to March 17, 2018. At the time this dataset was collected, Melbourne was entering a housing bubble and realtors were scrambling to deal with the increased buyer demand.\n",
    "\n",
    "The agency makes money through the following business model: they receive 2.5% of the property's sale price as a commission, of which 90% goes to the real estate agent who made the sale and 10% goes to the agency.\n",
    "\n",
    "The dataset is at the file in `FILEPATH` and the realtors working for the agency are in `REALTORS`.\n",
    "\n",
    "## Dataset Details\n",
    "38,457 entries, with the following key columns (the dataset also contains some other columns that are not important to this task):\n",
    "- `Suburb`: Suburb name\n",
    "- `Price`: Price in Australian dollars\n",
    "- `Type`: type of housing (bedroom (br), house (h), duplex (u), townhouse (t))\n",
    "- `SellerG`: Real Estate Agent\n",
    "- `Date`: Date sold (formatted as DD/MM/YYYY)\n",
    "- `Distance`: Distance from CBD in Kilometres\n",
    "- `Regionname`: General Region (West, North West, North, North east …etc)\n",
    "- `Landsize`: Land Size in Metres\n",
    "- `YearBuilt`: Year the house was built\n",
    "- `Lattitude`: Self explanitory\n",
    "- `Longtitude`: Self explanitory\n",
    "\n",
    "Note that null values exist in this dataset.\n",
    "\n",
    "\n",
    "## Key Questions\n",
    "1. How does the distance to the CBD (central business district) relate to the house price? What else could be affecting this relationship?\n",
    "2. The agency is interested in knowing who their top earners are. How much did each realtor in `REALTORS` bring into the agency in 2018?\n",
    "3. **ML:** Discuss the design of a system that, given a new listing's attributes (as listed in dataset details), will produce (a) the probability of selling at the given price and (b) the best realtor in the agency to sell that house."
   ]
  },
  {
   "cell_type": "code",
   "execution_count": null,
   "id": "b497c572",
   "metadata": {},
   "outputs": [],
   "source": [
    "# constants\n",
    "\n",
    "FILEPATH = \"data/Melbourne_housing_FULL.csv\"\n",
    "REALTORS = {\"Nelson\", \"Woodards\", \"Marshall\", \"Buxton\", \"RT\"}"
   ]
  },
  {
   "cell_type": "code",
   "execution_count": null,
   "id": "60d86968",
   "metadata": {},
   "outputs": [],
   "source": [
    "# Import your data here\n"
   ]
  },
  {
   "cell_type": "markdown",
   "id": "20a91c32",
   "metadata": {},
   "source": [
    "## Question 1: Distance to CBD"
   ]
  },
  {
   "cell_type": "code",
   "execution_count": null,
   "id": "40cb89a3",
   "metadata": {},
   "outputs": [],
   "source": []
  },
  {
   "cell_type": "markdown",
   "id": "4ecf1383",
   "metadata": {},
   "source": [
    "## Question 2: Seller Revenues"
   ]
  },
  {
   "cell_type": "code",
   "execution_count": null,
   "id": "5a02b422",
   "metadata": {},
   "outputs": [],
   "source": []
  },
  {
   "cell_type": "markdown",
   "id": "a6f5a7e3",
   "metadata": {},
   "source": [
    "## Question 3: Sell Predictor"
   ]
  },
  {
   "cell_type": "markdown",
   "id": "fb016af8",
   "metadata": {},
   "source": [
    "**Type your response here.**"
   ]
  },
  {
   "cell_type": "code",
   "execution_count": null,
   "id": "f78b18dc",
   "metadata": {},
   "outputs": [],
   "source": []
  }
 ],
 "metadata": {
  "kernelspec": {
   "display_name": "ds3consulting",
   "language": "python",
   "name": "ds3consulting"
  },
  "language_info": {
   "codemirror_mode": {
    "name": "ipython",
    "version": 3
   },
   "file_extension": ".py",
   "mimetype": "text/x-python",
   "name": "python",
   "nbconvert_exporter": "python",
   "pygments_lexer": "ipython3",
   "version": "3.8.5"
  }
 },
 "nbformat": 4,
 "nbformat_minor": 5
}
