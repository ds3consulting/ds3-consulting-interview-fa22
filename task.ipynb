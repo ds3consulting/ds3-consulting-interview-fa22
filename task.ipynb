{
 "cells": [
  {
   "cell_type": "code",
   "execution_count": null,
   "id": "5e1b45f6",
   "metadata": {},
   "outputs": [],
   "source": [
    "!which python"
   ]
  },
  {
   "cell_type": "code",
   "execution_count": null,
   "id": "b27b56fa",
   "metadata": {},
   "outputs": [],
   "source": [
    "import numpy as np\n",
    "import pandas as pd\n",
    "import matplotlib.pyplot as plt\n",
    "\n",
    "%config InlineBackend.figure_format='retina'"
   ]
  },
  {
   "cell_type": "markdown",
   "id": "1c339dfc",
   "metadata": {},
   "source": [
    "# DS3 Consulting FA22 Interview Task\n",
    "\n",
    "## Background\n",
    "You are consulting for a (fictional) real estate agency in Melbourne, Australia. You have been provided with a dataset of housing sales from January 28, 2016 to March 17, 2018. At the time this dataset was collected, Melbourne was entering a housing bubble and realtors were scrambling to deal with the increased buyer demand.\n",
    "\n",
    "The agency makes money through the following business model: they receive 2.5% of the property's sale price as a commission, of which 90% goes to the real estate agent who made the sale and 10% goes to the agency.\n",
    "\n",
    "## Dataset Details\n",
    "38,457 entries, with the following key columns (the dataset also contains some other columns that are not important to this task):\n",
    "- `Suburb`: Suburb name\n",
    "- `Price`: Price in Australian dollars\n",
    "- `Type`: type of housing (bedroom (br), house (h), duplex (u), townhouse (t))\n",
    "- `SellerG`: Real Estate Agent\n",
    "- `Date`: Date sold (formatted as DD/MM/YYYY)\n",
    "- `Distance`: Distance from CBD in Kilometres\n",
    "- `Regionname`: General Region (West, North West, North, North east …etc)\n",
    "- `Landsize`: Land Size in Metres\n",
    "- `YearBuilt`: Year the house was built\n",
    "- `Lattitude`: Self explanitory\n",
    "- `Longtitude`: Self explanitory\n",
    "\n",
    "Note that null values exist in this dataset.\n",
    "\n",
    "\n",
    "## Key Questions\n",
    "1. How does the distance to the CBD (central business district) relate to the house price? What else could be affecting this relationship?\n",
    "2. The city of Melbourne is considering requiring additional licensing in 2019 for realtors to sell duplexes or townhouses (coded u and t in the 'Type' column, respectively). For one year, this license costs AU\\$50,000, covered by the agency. Is it justified to buy this license for one of your top agents, Woodards?\n",
    "3. Based on the data, what is the probability a house in Malvern sells for an asking price of AU\\$4,000,000? What assumptions are we making here?"
   ]
  },
  {
   "cell_type": "code",
   "execution_count": null,
   "id": "36396cc7",
   "metadata": {},
   "outputs": [],
   "source": [
    "# Import your data here\n",
    "\n",
    "FILEPATH = \"data/Melbourne_housing_FULL.csv\""
   ]
  },
  {
   "cell_type": "markdown",
   "id": "b710dda5",
   "metadata": {},
   "source": [
    "## Task 1: Distance to CBD"
   ]
  },
  {
   "cell_type": "code",
   "execution_count": null,
   "id": "5d35a175",
   "metadata": {},
   "outputs": [],
   "source": []
  },
  {
   "cell_type": "markdown",
   "id": "14085bc9",
   "metadata": {},
   "source": [
    "## Task 2: Duplex License"
   ]
  },
  {
   "cell_type": "code",
   "execution_count": null,
   "id": "7c0b7a87",
   "metadata": {},
   "outputs": [],
   "source": []
  },
  {
   "cell_type": "markdown",
   "id": "ce4280f4",
   "metadata": {},
   "source": [
    "## Task 3: Malvern House"
   ]
  },
  {
   "cell_type": "code",
   "execution_count": null,
   "id": "ab17b194",
   "metadata": {},
   "outputs": [],
   "source": []
  }
 ],
 "metadata": {
  "kernelspec": {
   "display_name": "ds3consulting",
   "language": "python",
   "name": "ds3consulting"
  },
  "language_info": {
   "codemirror_mode": {
    "name": "ipython",
    "version": 3
   },
   "file_extension": ".py",
   "mimetype": "text/x-python",
   "name": "python",
   "nbconvert_exporter": "python",
   "pygments_lexer": "ipython3",
   "version": "3.8.5"
  }
 },
 "nbformat": 4,
 "nbformat_minor": 5
}
